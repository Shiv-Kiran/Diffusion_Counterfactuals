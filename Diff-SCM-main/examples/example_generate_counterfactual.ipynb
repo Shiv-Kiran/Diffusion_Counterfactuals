{
 "cells": [
  {
   "cell_type": "code",
   "execution_count": 2,
   "metadata": {},
   "outputs": [],
   "source": [
    "import matplotlib.pyplot as plt\n",
    "import numpy as np\n",
    "import torch as th\n",
    "from datasets import loader\n",
    "from configs import default_mnist_configs\n",
    "from utils import dist_util\n",
    "from sampling.sampling_utils import get_models_from_config,get_models_functions"
   ]
  },
  {
   "cell_type": "code",
   "execution_count": 3,
   "metadata": {},
   "outputs": [],
   "source": [
    "config = default_test_configs.get_default_configs()\n",
    "dist_util.setup_dist()\n",
    "print(f\"device {dist_util.dev()}\")\n",
    "print(f\"experiment folder {config.experiment_name}\")\n",
    "print(f\"Counterfactual target class {config.sampling.counterfactual_class }\")"
   ]
  },
  {
   "cell_type": "code",
   "execution_count": 6,
   "metadata": {},
   "outputs": [],
   "source": [
    "test_loader = loader.get_data_loader(config.data.path, config.sampling.batch_size, split_set='test',\n",
    "                                         which_label=config.classifier.label)"
   ]
  },
  {
   "cell_type": "code",
   "execution_count": 7,
   "metadata": {},
   "outputs": [
    {
     "name": "stdout",
     "output_type": "stream",
     "text": [
      "EncoderUNetModel(\n",
      "  (time_embed): Sequential(\n",
      "    (0): Linear(in_features=32, out_features=128, bias=True)\n",
      "    (1): SiLU()\n",
      "    (2): Linear(in_features=128, out_features=128, bias=True)\n",
      "  )\n",
      "  (input_blocks): ModuleList(\n",
      "    (0): TimestepEmbedSequential(\n",
      "      (0): Conv2d(1, 32, kernel_size=(3, 3), stride=(1, 1), padding=(1, 1))\n",
      "    )\n",
      "    (1): TimestepEmbedSequential(\n",
      "      (0): ResBlock(\n",
      "        (in_layers): Sequential(\n",
      "          (0): GroupNorm32(32, 32, eps=1e-05, affine=True)\n",
      "          (1): SiLU()\n",
      "          (2): Conv2d(32, 32, kernel_size=(3, 3), stride=(1, 1), padding=(1, 1))\n",
      "        )\n",
      "        (h_upd): Identity()\n",
      "        (x_upd): Identity()\n",
      "        (emb_layers): Sequential(\n",
      "          (0): SiLU()\n",
      "          (1): Linear(in_features=128, out_features=64, bias=True)\n",
      "        )\n",
      "        (out_layers): Sequential(\n",
      "          (0): GroupNorm32(32, 32, eps=1e-05, affine=True)\n",
      "          (1): SiLU()\n",
      "          (2): Dropout(p=0, inplace=False)\n",
      "          (3): Conv2d(32, 32, kernel_size=(3, 3), stride=(1, 1), padding=(1, 1))\n",
      "        )\n",
      "        (skip_connection): Identity()\n",
      "      )\n",
      "    )\n",
      "    (2): TimestepEmbedSequential(\n",
      "      (0): ResBlock(\n",
      "        (in_layers): Sequential(\n",
      "          (0): GroupNorm32(32, 32, eps=1e-05, affine=True)\n",
      "          (1): SiLU()\n",
      "          (2): Conv2d(32, 32, kernel_size=(3, 3), stride=(1, 1), padding=(1, 1))\n",
      "        )\n",
      "        (h_upd): Downsample(\n",
      "          (op): AvgPool2d(kernel_size=2, stride=2, padding=0)\n",
      "        )\n",
      "        (x_upd): Downsample(\n",
      "          (op): AvgPool2d(kernel_size=2, stride=2, padding=0)\n",
      "        )\n",
      "        (emb_layers): Sequential(\n",
      "          (0): SiLU()\n",
      "          (1): Linear(in_features=128, out_features=64, bias=True)\n",
      "        )\n",
      "        (out_layers): Sequential(\n",
      "          (0): GroupNorm32(32, 32, eps=1e-05, affine=True)\n",
      "          (1): SiLU()\n",
      "          (2): Dropout(p=0, inplace=False)\n",
      "          (3): Conv2d(32, 32, kernel_size=(3, 3), stride=(1, 1), padding=(1, 1))\n",
      "        )\n",
      "        (skip_connection): Identity()\n",
      "      )\n",
      "    )\n",
      "    (3): TimestepEmbedSequential(\n",
      "      (0): ResBlock(\n",
      "        (in_layers): Sequential(\n",
      "          (0): GroupNorm32(32, 32, eps=1e-05, affine=True)\n",
      "          (1): SiLU()\n",
      "          (2): Conv2d(32, 64, kernel_size=(3, 3), stride=(1, 1), padding=(1, 1))\n",
      "        )\n",
      "        (h_upd): Identity()\n",
      "        (x_upd): Identity()\n",
      "        (emb_layers): Sequential(\n",
      "          (0): SiLU()\n",
      "          (1): Linear(in_features=128, out_features=128, bias=True)\n",
      "        )\n",
      "        (out_layers): Sequential(\n",
      "          (0): GroupNorm32(32, 64, eps=1e-05, affine=True)\n",
      "          (1): SiLU()\n",
      "          (2): Dropout(p=0, inplace=False)\n",
      "          (3): Conv2d(64, 64, kernel_size=(3, 3), stride=(1, 1), padding=(1, 1))\n",
      "        )\n",
      "        (skip_connection): Conv2d(32, 64, kernel_size=(1, 1), stride=(1, 1))\n",
      "      )\n",
      "    )\n",
      "    (4): TimestepEmbedSequential(\n",
      "      (0): ResBlock(\n",
      "        (in_layers): Sequential(\n",
      "          (0): GroupNorm32(32, 64, eps=1e-05, affine=True)\n",
      "          (1): SiLU()\n",
      "          (2): Conv2d(64, 64, kernel_size=(3, 3), stride=(1, 1), padding=(1, 1))\n",
      "        )\n",
      "        (h_upd): Downsample(\n",
      "          (op): AvgPool2d(kernel_size=2, stride=2, padding=0)\n",
      "        )\n",
      "        (x_upd): Downsample(\n",
      "          (op): AvgPool2d(kernel_size=2, stride=2, padding=0)\n",
      "        )\n",
      "        (emb_layers): Sequential(\n",
      "          (0): SiLU()\n",
      "          (1): Linear(in_features=128, out_features=128, bias=True)\n",
      "        )\n",
      "        (out_layers): Sequential(\n",
      "          (0): GroupNorm32(32, 64, eps=1e-05, affine=True)\n",
      "          (1): SiLU()\n",
      "          (2): Dropout(p=0, inplace=False)\n",
      "          (3): Conv2d(64, 64, kernel_size=(3, 3), stride=(1, 1), padding=(1, 1))\n",
      "        )\n",
      "        (skip_connection): Identity()\n",
      "      )\n",
      "    )\n",
      "    (5): TimestepEmbedSequential(\n",
      "      (0): ResBlock(\n",
      "        (in_layers): Sequential(\n",
      "          (0): GroupNorm32(32, 64, eps=1e-05, affine=True)\n",
      "          (1): SiLU()\n",
      "          (2): Conv2d(64, 128, kernel_size=(3, 3), stride=(1, 1), padding=(1, 1))\n",
      "        )\n",
      "        (h_upd): Identity()\n",
      "        (x_upd): Identity()\n",
      "        (emb_layers): Sequential(\n",
      "          (0): SiLU()\n",
      "          (1): Linear(in_features=128, out_features=256, bias=True)\n",
      "        )\n",
      "        (out_layers): Sequential(\n",
      "          (0): GroupNorm32(32, 128, eps=1e-05, affine=True)\n",
      "          (1): SiLU()\n",
      "          (2): Dropout(p=0, inplace=False)\n",
      "          (3): Conv2d(128, 128, kernel_size=(3, 3), stride=(1, 1), padding=(1, 1))\n",
      "        )\n",
      "        (skip_connection): Conv2d(64, 128, kernel_size=(1, 1), stride=(1, 1))\n",
      "      )\n",
      "    )\n",
      "    (6): TimestepEmbedSequential(\n",
      "      (0): ResBlock(\n",
      "        (in_layers): Sequential(\n",
      "          (0): GroupNorm32(32, 128, eps=1e-05, affine=True)\n",
      "          (1): SiLU()\n",
      "          (2): Conv2d(128, 128, kernel_size=(3, 3), stride=(1, 1), padding=(1, 1))\n",
      "        )\n",
      "        (h_upd): Downsample(\n",
      "          (op): AvgPool2d(kernel_size=2, stride=2, padding=0)\n",
      "        )\n",
      "        (x_upd): Downsample(\n",
      "          (op): AvgPool2d(kernel_size=2, stride=2, padding=0)\n",
      "        )\n",
      "        (emb_layers): Sequential(\n",
      "          (0): SiLU()\n",
      "          (1): Linear(in_features=128, out_features=256, bias=True)\n",
      "        )\n",
      "        (out_layers): Sequential(\n",
      "          (0): GroupNorm32(32, 128, eps=1e-05, affine=True)\n",
      "          (1): SiLU()\n",
      "          (2): Dropout(p=0, inplace=False)\n",
      "          (3): Conv2d(128, 128, kernel_size=(3, 3), stride=(1, 1), padding=(1, 1))\n",
      "        )\n",
      "        (skip_connection): Identity()\n",
      "      )\n",
      "    )\n",
      "    (7): TimestepEmbedSequential(\n",
      "      (0): ResBlock(\n",
      "        (in_layers): Sequential(\n",
      "          (0): GroupNorm32(32, 128, eps=1e-05, affine=True)\n",
      "          (1): SiLU()\n",
      "          (2): Conv2d(128, 128, kernel_size=(3, 3), stride=(1, 1), padding=(1, 1))\n",
      "        )\n",
      "        (h_upd): Identity()\n",
      "        (x_upd): Identity()\n",
      "        (emb_layers): Sequential(\n",
      "          (0): SiLU()\n",
      "          (1): Linear(in_features=128, out_features=256, bias=True)\n",
      "        )\n",
      "        (out_layers): Sequential(\n",
      "          (0): GroupNorm32(32, 128, eps=1e-05, affine=True)\n",
      "          (1): SiLU()\n",
      "          (2): Dropout(p=0, inplace=False)\n",
      "          (3): Conv2d(128, 128, kernel_size=(3, 3), stride=(1, 1), padding=(1, 1))\n",
      "        )\n",
      "        (skip_connection): Identity()\n",
      "      )\n",
      "    )\n",
      "  )\n",
      "  (middle_block): TimestepEmbedSequential(\n",
      "    (0): ResBlock(\n",
      "      (in_layers): Sequential(\n",
      "        (0): GroupNorm32(32, 128, eps=1e-05, affine=True)\n",
      "        (1): SiLU()\n",
      "        (2): Conv2d(128, 128, kernel_size=(3, 3), stride=(1, 1), padding=(1, 1))\n",
      "      )\n",
      "      (h_upd): Identity()\n",
      "      (x_upd): Identity()\n",
      "      (emb_layers): Sequential(\n",
      "        (0): SiLU()\n",
      "        (1): Linear(in_features=128, out_features=256, bias=True)\n",
      "      )\n",
      "      (out_layers): Sequential(\n",
      "        (0): GroupNorm32(32, 128, eps=1e-05, affine=True)\n",
      "        (1): SiLU()\n",
      "        (2): Dropout(p=0, inplace=False)\n",
      "        (3): Conv2d(128, 128, kernel_size=(3, 3), stride=(1, 1), padding=(1, 1))\n",
      "      )\n",
      "      (skip_connection): Identity()\n",
      "    )\n",
      "    (1): AttentionBlock(\n",
      "      (norm): GroupNorm32(32, 128, eps=1e-05, affine=True)\n",
      "      (qkv): Conv1d(128, 384, kernel_size=(1,), stride=(1,))\n",
      "      (attention): QKVAttentionLegacy()\n",
      "      (proj_out): Conv1d(128, 128, kernel_size=(1,), stride=(1,))\n",
      "    )\n",
      "    (2): ResBlock(\n",
      "      (in_layers): Sequential(\n",
      "        (0): GroupNorm32(32, 128, eps=1e-05, affine=True)\n",
      "        (1): SiLU()\n",
      "        (2): Conv2d(128, 128, kernel_size=(3, 3), stride=(1, 1), padding=(1, 1))\n",
      "      )\n",
      "      (h_upd): Identity()\n",
      "      (x_upd): Identity()\n",
      "      (emb_layers): Sequential(\n",
      "        (0): SiLU()\n",
      "        (1): Linear(in_features=128, out_features=256, bias=True)\n",
      "      )\n",
      "      (out_layers): Sequential(\n",
      "        (0): GroupNorm32(32, 128, eps=1e-05, affine=True)\n",
      "        (1): SiLU()\n",
      "        (2): Dropout(p=0, inplace=False)\n",
      "        (3): Conv2d(128, 128, kernel_size=(3, 3), stride=(1, 1), padding=(1, 1))\n",
      "      )\n",
      "      (skip_connection): Identity()\n",
      "    )\n",
      "  )\n",
      "  (out): Sequential(\n",
      "    (0): GroupNorm32(32, 128, eps=1e-05, affine=True)\n",
      "    (1): SiLU()\n",
      "    (2): AttentionPool2d(\n",
      "      (qkv_proj): Conv1d(128, 384, kernel_size=(1,), stride=(1,))\n",
      "      (c_proj): Conv1d(128, 10, kernel_size=(1,), stride=(1,))\n",
      "      (attention): QKVAttention()\n",
      "    )\n",
      "  )\n",
      ")\n"
     ]
    }
   ],
   "source": [
    "classifier, diffusion, model = get_models_from_config(config)\n",
    "cond_fn, model_fn = get_models_functions(config, model, classifier)"
   ]
  },
  {
   "cell_type": "code",
   "execution_count": 8,
   "metadata": {},
   "outputs": [
    {
     "name": "stdout",
     "output_type": "stream",
     "text": [
      "/remote/rds/groups/idcom_imaging/data/MNIST\n"
     ]
    }
   ],
   "source": [
    "data_dict = next(test_loader)"
   ]
  },
  {
   "cell_type": "code",
   "execution_count": 9,
   "metadata": {},
   "outputs": [
    {
     "data": {
      "application/vnd.jupyter.widget-view+json": {
       "model_id": "20934f1a41b2477c9e6403059e66e3bb",
       "version_major": 2,
       "version_minor": 0
      },
      "text/plain": [
       "  0%|          | 0/1000 [00:00<?, ?it/s]"
      ]
     },
     "metadata": {},
     "output_type": "display_data"
    },
    {
     "data": {
      "application/vnd.jupyter.widget-view+json": {
       "model_id": "d0e711b1be724b30b1d1b4df886c625b",
       "version_major": 2,
       "version_minor": 0
      },
      "text/plain": [
       "  0%|          | 0/1000 [00:00<?, ?it/s]"
      ]
     },
     "metadata": {},
     "output_type": "display_data"
    }
   ],
   "source": [
    "results_per_sample = {\"original\": ((data_dict['image'] + 1) * 127.5).clamp(0, 255).to(\n",
    "    th.uint8)}\n",
    "# send data points to GPU\n",
    "model_kwargs = {k: v.to(dist_util.dev()) for k, v in data_dict.items()}\n",
    "init_image = data_dict['image'].to(dist_util.dev())\n",
    "# create counterfactual target \n",
    "model_kwargs[\"y\"] = (config.sampling.counterfactual_class * th.ones((config.sampling.batch_size,))).to(th.long).to(dist_util.dev())\n",
    "\n",
    "counterfactual = diffusion.diffscm_counterfactual_sample(\n",
    "                model_fn\n",
    "                (config.sampling.batch_size,\n",
    "                    config.score_model.num_input_channels,\n",
    "                    config.score_model.image_size,\n",
    "                    config.score_model.image_size),\n",
    "                factual_image = init_image,\n",
    "                anticausal_classifier_fn = cond_fn,\n",
    "                model_kwargs=model_kwargs,\n",
    "                device=dist_util.dev(),\n",
    "                )\n",
    "\n",
    "counterfactual = ((counterfactual + 1) * 127.5).clamp(0, 255).to(th.uint8)\n",
    "results_per_sample[\"counterfactual\"] = counterfactual.cpu().numpy()"
   ]
  },
  {
   "cell_type": "code",
   "execution_count": 38,
   "metadata": {},
   "outputs": [
    {
     "data": {
      "text/plain": [
       "((56, 448), (16, 2, 28, 28))"
      ]
     },
     "execution_count": 38,
     "metadata": {},
     "output_type": "execute_result"
    }
   ],
   "source": [
    "sample_list = np.stack([v[:,0] for (k,v) in results_per_sample.items()])\n",
    "sample_list = np.einsum(\"ibwh -> bihw\",sample_list)\n",
    "sample_list = sample_list[:16]\n",
    "grid = np.concatenate(np.concatenate(sample_list,axis = 2),axis = 0)"
   ]
  },
  {
   "cell_type": "code",
   "execution_count": 39,
   "metadata": {},
   "outputs": [
    {
     "data": {
      "text/plain": [
       "(-0.5, 447.5, 55.5, -0.5)"
      ]
     },
     "execution_count": 39,
     "metadata": {},
     "output_type": "execute_result"
    },
    {
     "data": {
      "image/png": "[encoded data removed]",
      "text/plain": [
       "<Figure size 864x2880 with 1 Axes>"
      ]
     },
     "metadata": {
      "needs_background": "light"
     },
     "output_type": "display_data"
    }
   ],
   "source": [
    "fig = plt.figure(figsize=(12.,40.))\n",
    "plt.imshow(grid,cmap = 'gray')\n",
    "plt.axis(\"off\")"
   ]
  }
 ],
 "metadata": {
  "kernelspec": {
   "display_name": "Python 3",
   "language": "python",
   "name": "python3"
  },
  "language_info": {
   "codemirror_mode": {
    "name": "ipython",
    "version": 3
   },
   "file_extension": ".py",
   "mimetype": "text/x-python",
   "name": "python",
   "nbconvert_exporter": "python",
   "pygments_lexer": "ipython3",
   "version": "3.8.2"
  }
 },
 "nbformat": 4,
 "nbformat_minor": 4
}
