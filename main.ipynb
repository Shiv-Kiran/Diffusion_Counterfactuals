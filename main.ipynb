{
 "cells": [
  {
   "cell_type": "code",
   "execution_count": 1,
   "metadata": {},
   "outputs": [],
   "source": [
    "import matplotlib.pyplot as plt\n",
    "import numpy as np\n",
    "import torch as th\n",
    "from typing import Dict\n",
    "import torch\n",
    "import torch.nn.functional as F\n",
    "from pathlib import Path\n",
    "import sys\n",
    "sys.path.append(str(Path.cwd()))\n",
    "import numpy as np"
   ]
  },
  {
   "cell_type": "code",
   "execution_count": 2,
   "metadata": {},
   "outputs": [
    {
     "name": "stdout",
     "output_type": "stream",
     "text": [
      "/Users/neha-mac/Documents/Diff-CF/Diff-SCM-main\n"
     ]
    }
   ],
   "source": [
    "cd Diff-SCM-main"
   ]
  },
  {
   "cell_type": "code",
   "execution_count": null,
   "metadata": {},
   "outputs": [],
   "source": [
    "from diff_scm.datasets import loader"
   ]
  },
  {
   "cell_type": "code",
   "execution_count": 3,
   "metadata": {},
   "outputs": [
    {
     "name": "stderr",
     "output_type": "stream",
     "text": [
      "/Users/neha-mac/opt/anaconda3/envs/diff/lib/python3.11/site-packages/tqdm/auto.py:21: TqdmWarning: IProgress not found. Please update jupyter and ipywidgets. See https://ipywidgets.readthedocs.io/en/stable/user_install.html\n",
      "  from .autonotebook import tqdm as notebook_tqdm\n"
     ]
    }
   ],
   "source": [
    "from diff_scm.datasets import loader\n",
    "from diff_scm.configs import mnist_configs,brats_configs\n",
    "from diff_scm.utils import dist_util\n",
    "from diff_scm.sampling.sampling_utils import get_models_functions\n",
    "from diff_scm.utils.script_util import get_models_from_config"
   ]
  },
  {
   "cell_type": "code",
   "execution_count": 4,
   "metadata": {},
   "outputs": [
    {
     "name": "stdout",
     "output_type": "stream",
     "text": [
      "device cpu\n",
      "experiment folder exp_02_MNIST\n",
      "Counterfactual target class batch_size: 100\n",
      "classifier_path: ../experiment_data/exp_02_MNIST/classifier_train_class/model002999.pt\n",
      "classifier_scale: 1.0\n",
      "clip_denoised: true\n",
      "counterfactual_class: 5\n",
      "dynamic_sampling: true\n",
      "eta: 0.0\n",
      "image_conditional: false\n",
      "label_of_intervention: y\n",
      "model_path: ../experiment_data/exp_02_MNIST/score_train/model003000.pt\n",
      "num_samples: 100\n",
      "progress: false\n",
      "reconstruction: true\n",
      "sampling_progression_ratio: 0.75\n",
      "target_class: 5\n",
      "use_ddim: true\n",
      "\n"
     ]
    }
   ],
   "source": [
    "config = mnist_configs.get_default_configs()\n",
    "dist_util.setup_dist()\n",
    "print(f\"device {dist_util.dev()}\")\n",
    "print(f\"experiment folder {config.experiment_name}\")\n",
    "print(f\"Counterfactual target class {config.sampling }\")"
   ]
  },
  {
   "cell_type": "code",
   "execution_count": 5,
   "metadata": {},
   "outputs": [
    {
     "name": "stdout",
     "output_type": "stream",
     "text": [
      "root-dir /Users/neha-mac/Documents/Diff-CF/Diff-SCM-main/remote/rds/groups/idcom_imaging/data/Brain/BRATS/MNIST\n"
     ]
    }
   ],
   "source": [
    "test_loader = loader.get_data_loader(\"mnist\", config, split_set='test')"
   ]
  },
  {
   "cell_type": "code",
   "execution_count": 6,
   "metadata": {},
   "outputs": [
    {
     "name": "stdout",
     "output_type": "stream",
     "text": [
      "EncoderUNetModel(\n",
      "  (time_embed): Sequential(\n",
      "    (0): Linear(in_features=32, out_features=128, bias=True)\n",
      "    (1): SiLU()\n",
      "    (2): Linear(in_features=128, out_features=128, bias=True)\n",
      "  )\n",
      "  (input_blocks): ModuleList(\n",
      "    (0): TimestepEmbedSequential(\n",
      "      (0): Conv2d(1, 32, kernel_size=(3, 3), stride=(1, 1), padding=(1, 1))\n",
      "    )\n",
      "    (1): TimestepEmbedSequential(\n",
      "      (0): ResBlock(\n",
      "        (in_layers): Sequential(\n",
      "          (0): GroupNorm32(32, 32, eps=1e-05, affine=True)\n",
      "          (1): Identity()\n",
      "          (2): Conv2d(32, 32, kernel_size=(3, 3), stride=(1, 1), padding=(1, 1))\n",
      "        )\n",
      "        (h_upd): Identity()\n",
      "        (x_upd): Identity()\n",
      "        (emb_layers): Sequential(\n",
      "          (0): SiLU()\n",
      "          (1): Linear(in_features=128, out_features=64, bias=True)\n",
      "        )\n",
      "        (out_layers): Sequential(\n",
      "          (0): GroupNorm32(32, 32, eps=1e-05, affine=True)\n",
      "          (1): SiLU()\n",
      "          (2): Dropout(p=0, inplace=False)\n",
      "          (3): Conv2d(32, 32, kernel_size=(3, 3), stride=(1, 1), padding=(1, 1))\n",
      "        )\n",
      "        (skip_connection): Identity()\n",
      "      )\n",
      "    )\n",
      "    (2): TimestepEmbedSequential(\n",
      "      (0): ResBlock(\n",
      "        (in_layers): Sequential(\n",
      "          (0): GroupNorm32(32, 32, eps=1e-05, affine=True)\n",
      "          (1): Identity()\n",
      "          (2): Conv2d(32, 32, kernel_size=(3, 3), stride=(1, 1), padding=(1, 1))\n",
      "        )\n",
      "        (h_upd): Downsample(\n",
      "          (op): AvgPool2d(kernel_size=2, stride=2, padding=0)\n",
      "        )\n",
      "        (x_upd): Downsample(\n",
      "          (op): AvgPool2d(kernel_size=2, stride=2, padding=0)\n",
      "        )\n",
      "        (emb_layers): Sequential(\n",
      "          (0): SiLU()\n",
      "          (1): Linear(in_features=128, out_features=64, bias=True)\n",
      "        )\n",
      "        (out_layers): Sequential(\n",
      "          (0): GroupNorm32(32, 32, eps=1e-05, affine=True)\n",
      "          (1): SiLU()\n",
      "          (2): Dropout(p=0, inplace=False)\n",
      "          (3): Conv2d(32, 32, kernel_size=(3, 3), stride=(1, 1), padding=(1, 1))\n",
      "        )\n",
      "        (skip_connection): Identity()\n",
      "      )\n",
      "    )\n",
      "    (3): TimestepEmbedSequential(\n",
      "      (0): ResBlock(\n",
      "        (in_layers): Sequential(\n",
      "          (0): GroupNorm32(32, 32, eps=1e-05, affine=True)\n",
      "          (1): Identity()\n",
      "          (2): Conv2d(32, 64, kernel_size=(3, 3), stride=(1, 1), padding=(1, 1))\n",
      "        )\n",
      "        (h_upd): Identity()\n",
      "        (x_upd): Identity()\n",
      "        (emb_layers): Sequential(\n",
      "          (0): SiLU()\n",
      "          (1): Linear(in_features=128, out_features=128, bias=True)\n",
      "        )\n",
      "        (out_layers): Sequential(\n",
      "          (0): GroupNorm32(32, 64, eps=1e-05, affine=True)\n",
      "          (1): SiLU()\n",
      "          (2): Dropout(p=0, inplace=False)\n",
      "          (3): Conv2d(64, 64, kernel_size=(3, 3), stride=(1, 1), padding=(1, 1))\n",
      "        )\n",
      "        (skip_connection): Conv2d(32, 64, kernel_size=(1, 1), stride=(1, 1))\n",
      "      )\n",
      "    )\n",
      "    (4): TimestepEmbedSequential(\n",
      "      (0): ResBlock(\n",
      "        (in_layers): Sequential(\n",
      "          (0): GroupNorm32(32, 64, eps=1e-05, affine=True)\n",
      "          (1): Identity()\n",
      "          (2): Conv2d(64, 64, kernel_size=(3, 3), stride=(1, 1), padding=(1, 1))\n",
      "        )\n",
      "        (h_upd): Downsample(\n",
      "          (op): AvgPool2d(kernel_size=2, stride=2, padding=0)\n",
      "        )\n",
      "        (x_upd): Downsample(\n",
      "          (op): AvgPool2d(kernel_size=2, stride=2, padding=0)\n",
      "        )\n",
      "        (emb_layers): Sequential(\n",
      "          (0): SiLU()\n",
      "          (1): Linear(in_features=128, out_features=128, bias=True)\n",
      "        )\n",
      "        (out_layers): Sequential(\n",
      "          (0): GroupNorm32(32, 64, eps=1e-05, affine=True)\n",
      "          (1): SiLU()\n",
      "          (2): Dropout(p=0, inplace=False)\n",
      "          (3): Conv2d(64, 64, kernel_size=(3, 3), stride=(1, 1), padding=(1, 1))\n",
      "        )\n",
      "        (skip_connection): Identity()\n",
      "      )\n",
      "    )\n",
      "    (5): TimestepEmbedSequential(\n",
      "      (0): ResBlock(\n",
      "        (in_layers): Sequential(\n",
      "          (0): GroupNorm32(32, 64, eps=1e-05, affine=True)\n",
      "          (1): Identity()\n",
      "          (2): Conv2d(64, 128, kernel_size=(3, 3), stride=(1, 1), padding=(1, 1))\n",
      "        )\n",
      "        (h_upd): Identity()\n",
      "        (x_upd): Identity()\n",
      "        (emb_layers): Sequential(\n",
      "          (0): SiLU()\n",
      "          (1): Linear(in_features=128, out_features=256, bias=True)\n",
      "        )\n",
      "        (out_layers): Sequential(\n",
      "          (0): GroupNorm32(32, 128, eps=1e-05, affine=True)\n",
      "          (1): SiLU()\n",
      "          (2): Dropout(p=0, inplace=False)\n",
      "          (3): Conv2d(128, 128, kernel_size=(3, 3), stride=(1, 1), padding=(1, 1))\n",
      "        )\n",
      "        (skip_connection): Conv2d(64, 128, kernel_size=(1, 1), stride=(1, 1))\n",
      "      )\n",
      "    )\n",
      "    (6): TimestepEmbedSequential(\n",
      "      (0): ResBlock(\n",
      "        (in_layers): Sequential(\n",
      "          (0): GroupNorm32(32, 128, eps=1e-05, affine=True)\n",
      "          (1): Identity()\n",
      "          (2): Conv2d(128, 128, kernel_size=(3, 3), stride=(1, 1), padding=(1, 1))\n",
      "        )\n",
      "        (h_upd): Downsample(\n",
      "          (op): AvgPool2d(kernel_size=2, stride=2, padding=0)\n",
      "        )\n",
      "        (x_upd): Downsample(\n",
      "          (op): AvgPool2d(kernel_size=2, stride=2, padding=0)\n",
      "        )\n",
      "        (emb_layers): Sequential(\n",
      "          (0): SiLU()\n",
      "          (1): Linear(in_features=128, out_features=256, bias=True)\n",
      "        )\n",
      "        (out_layers): Sequential(\n",
      "          (0): GroupNorm32(32, 128, eps=1e-05, affine=True)\n",
      "          (1): SiLU()\n",
      "          (2): Dropout(p=0, inplace=False)\n",
      "          (3): Conv2d(128, 128, kernel_size=(3, 3), stride=(1, 1), padding=(1, 1))\n",
      "        )\n",
      "        (skip_connection): Identity()\n",
      "      )\n",
      "    )\n",
      "    (7): TimestepEmbedSequential(\n",
      "      (0): ResBlock(\n",
      "        (in_layers): Sequential(\n",
      "          (0): GroupNorm32(32, 128, eps=1e-05, affine=True)\n",
      "          (1): Identity()\n",
      "          (2): Conv2d(128, 128, kernel_size=(3, 3), stride=(1, 1), padding=(1, 1))\n",
      "        )\n",
      "        (h_upd): Identity()\n",
      "        (x_upd): Identity()\n",
      "        (emb_layers): Sequential(\n",
      "          (0): SiLU()\n",
      "          (1): Linear(in_features=128, out_features=256, bias=True)\n",
      "        )\n",
      "        (out_layers): Sequential(\n",
      "          (0): GroupNorm32(32, 128, eps=1e-05, affine=True)\n",
      "          (1): SiLU()\n",
      "          (2): Dropout(p=0, inplace=False)\n",
      "          (3): Conv2d(128, 128, kernel_size=(3, 3), stride=(1, 1), padding=(1, 1))\n",
      "        )\n",
      "        (skip_connection): Identity()\n",
      "      )\n",
      "    )\n",
      "  )\n",
      "  (middle_block): TimestepEmbedSequential(\n",
      "    (0): ResBlock(\n",
      "      (in_layers): Sequential(\n",
      "        (0): GroupNorm32(32, 128, eps=1e-05, affine=True)\n",
      "        (1): Identity()\n",
      "        (2): Conv2d(128, 128, kernel_size=(3, 3), stride=(1, 1), padding=(1, 1))\n",
      "      )\n",
      "      (h_upd): Identity()\n",
      "      (x_upd): Identity()\n",
      "      (emb_layers): Sequential(\n",
      "        (0): SiLU()\n",
      "        (1): Linear(in_features=128, out_features=256, bias=True)\n",
      "      )\n",
      "      (out_layers): Sequential(\n",
      "        (0): GroupNorm32(32, 128, eps=1e-05, affine=True)\n",
      "        (1): SiLU()\n",
      "        (2): Dropout(p=0, inplace=False)\n",
      "        (3): Conv2d(128, 128, kernel_size=(3, 3), stride=(1, 1), padding=(1, 1))\n",
      "      )\n",
      "      (skip_connection): Identity()\n",
      "    )\n",
      "    (1): AttentionBlock(\n",
      "      (norm): GroupNorm32(32, 128, eps=1e-05, affine=True)\n",
      "      (qkv): Conv1d(128, 384, kernel_size=(1,), stride=(1,))\n",
      "      (attention): QKVAttention()\n",
      "      (encoder_kv): Conv1d(128, 256, kernel_size=(1,), stride=(1,))\n",
      "      (proj_out): Conv1d(128, 128, kernel_size=(1,), stride=(1,))\n",
      "    )\n",
      "    (2): ResBlock(\n",
      "      (in_layers): Sequential(\n",
      "        (0): GroupNorm32(32, 128, eps=1e-05, affine=True)\n",
      "        (1): Identity()\n",
      "        (2): Conv2d(128, 128, kernel_size=(3, 3), stride=(1, 1), padding=(1, 1))\n",
      "      )\n",
      "      (h_upd): Identity()\n",
      "      (x_upd): Identity()\n",
      "      (emb_layers): Sequential(\n",
      "        (0): SiLU()\n",
      "        (1): Linear(in_features=128, out_features=256, bias=True)\n",
      "      )\n",
      "      (out_layers): Sequential(\n",
      "        (0): GroupNorm32(32, 128, eps=1e-05, affine=True)\n",
      "        (1): SiLU()\n",
      "        (2): Dropout(p=0, inplace=False)\n",
      "        (3): Conv2d(128, 128, kernel_size=(3, 3), stride=(1, 1), padding=(1, 1))\n",
      "      )\n",
      "      (skip_connection): Identity()\n",
      "    )\n",
      "  )\n",
      "  (out): Sequential(\n",
      "    (0): GroupNorm32(32, 128, eps=1e-05, affine=True)\n",
      "    (1): SiLU()\n",
      "    (2): AttentionPool2d(\n",
      "      (qkv_proj): Conv1d(128, 384, kernel_size=(1,), stride=(1,))\n",
      "      (c_proj): Conv1d(128, 10, kernel_size=(1,), stride=(1,))\n",
      "      (attention): QKVAttention()\n",
      "    )\n",
      "  )\n",
      ")\n",
      "##########$$$$$$$$$44\n"
     ]
    }
   ],
   "source": [
    "classifier, diffusion, model = get_models_from_config(config)"
   ]
  },
  {
   "cell_type": "code",
   "execution_count": null,
   "metadata": {},
   "outputs": [],
   "source": [
    "diffusion"
   ]
  },
  {
   "cell_type": "code",
   "execution_count": 7,
   "metadata": {},
   "outputs": [],
   "source": [
    "cond_fn, model_fn, model_classifier_free_opt_fn, denoised_fn = get_models_functions(config, model, classifier)"
   ]
  },
  {
   "cell_type": "code",
   "execution_count": 32,
   "metadata": {},
   "outputs": [],
   "source": [
    "data_dict = next(test_loader)"
   ]
  },
  {
   "cell_type": "code",
   "execution_count": 33,
   "metadata": {},
   "outputs": [],
   "source": [
    "results_per_sample = {\"original\": ((data_dict['image'] + 1) * 127.5).clamp(0, 255).to(\n",
    "    th.uint8)}\n",
    "# send data points to GPU\n",
    "model_kwargs = {k: v.to(dist_util.dev()) for k, v in data_dict.items()}\n",
    "init_image = data_dict['image'].to(dist_util.dev())\n",
    "# create counterfactual target \n",
    "model_kwargs[\"y\"] = (config.sampling.counterfactual_class * th.ones((config.sampling.batch_size,))).to(th.long).to(dist_util.dev())"
   ]
  },
  {
   "cell_type": "code",
   "execution_count": 34,
   "metadata": {},
   "outputs": [],
   "source": [
    "def get_input_data(config, data_dict):\n",
    "\n",
    "    model_kwargs = {k: v.to(dist_util.dev()) for k, v in data_dict.items()}\n",
    "    model_kwargs[\"y\"] = (config.sampling.target_class * torch.ones((config.sampling.batch_size,))).to(torch.long).to(dist_util.dev())\n",
    "    \n",
    "    init_image = data_dict['image'].to(dist_util.dev())\n",
    "\n",
    "    return model_kwargs,init_image"
   ]
  },
  {
   "cell_type": "code",
   "execution_count": 89,
   "metadata": {},
   "outputs": [],
   "source": [
    "def est_counterfactual(config, diffusion, cond_fn, model_fn, model_classifier_free_fn, denoised_fn, data_dict):\n",
    "    model_kwargs, init_image = get_input_data(config, data_dict)\n",
    "    # DDIM loop in reverse time order for inferring exogenous noise (image latent space)    \n",
    "    exogenous_noise, abduction_progression = diffusion.ddim_sample_loop(\n",
    "            model_fn,\n",
    "            (config.sampling.batch_size,\n",
    "                config.score_model.num_input_channels,\n",
    "                config.score_model.image_size,\n",
    "                config.score_model.image_size),\n",
    "            clip_denoised=config.sampling.clip_denoised,\n",
    "            model_kwargs=model_kwargs,\n",
    "            denoised_fn = None,\n",
    "            noise=init_image,\n",
    "            cond_fn=None,\n",
    "            device=dist_util.dev(),\n",
    "            progress=config.sampling.progress,\n",
    "            eta=config.sampling.eta,\n",
    "            reconstruction=False,\n",
    "            sampling_progression_ratio = config.sampling.sampling_progression_ratio\n",
    "        )\n",
    "    init_image = exogenous_noise\n",
    "    # DDIM diffusion inference  with conditioning (intervention), starting from a latent image instead of random noise\n",
    "    counterfactual_image, diffusion_progression = diffusion.ddim_sample_loop(\n",
    "            model_classifier_free_fn if config.score_model.classifier_free_cond else model_fn,\n",
    "            (config.sampling.batch_size,\n",
    "                config.score_model.num_input_channels,\n",
    "                config.score_model.image_size,\n",
    "                config.score_model.image_size),\n",
    "            clip_denoised=config.sampling.clip_denoised,\n",
    "            model_kwargs=model_kwargs,\n",
    "            denoised_fn = denoised_fn ,\n",
    "            noise=init_image,\n",
    "            cond_fn=cond_fn ,\n",
    "            device=dist_util.dev(),\n",
    "            progress=config.sampling.progress,\n",
    "            eta=config.sampling.eta,\n",
    "            reconstruction=True,\n",
    "            sampling_progression_ratio = config.sampling.sampling_progression_ratio\n",
    "        )\n",
    "    sampling_progression = abduction_progression + diffusion_progression\n",
    "    return counterfactual_image, sampling_progression, exogenous_noise\n"
   ]
  },
  {
   "cell_type": "code",
   "execution_count": 90,
   "metadata": {},
   "outputs": [
    {
     "name": "stderr",
     "output_type": "stream",
     "text": [
      "100%|██████████| 75/75 [01:14<00:00,  1.01it/s]\n",
      "100%|██████████| 75/75 [01:13<00:00,  1.01it/s]\n"
     ]
    }
   ],
   "source": [
    "counterfactual_image, sampling_progression , exogenous_noise= est_counterfactual(config, \n",
    "                                                diffusion, cond_fn, model_fn, \n",
    "                                                model_classifier_free_opt_fn, denoised_fn, \n",
    "                                                data_dict)"
   ]
  },
  {
   "cell_type": "code",
   "execution_count": 96,
   "metadata": {},
   "outputs": [],
   "source": [
    "# test_set = counterfactual_image\n",
    "test_set = exogenous_noise"
   ]
  },
  {
   "cell_type": "code",
   "execution_count": 97,
   "metadata": {},
   "outputs": [],
   "source": [
    "counterfactual = ((test_set + 1) * 127.5).clamp(0, 255).to(th.uint8)\n",
    "results_per_sample[\"counterfactual\"] = counterfactual.cpu().numpy()\n"
   ]
  },
  {
   "cell_type": "code",
   "execution_count": 98,
   "metadata": {},
   "outputs": [
    {
     "data": {
      "text/plain": [
       "torch.Size([100, 1, 28, 28])"
      ]
     },
     "execution_count": 98,
     "metadata": {},
     "output_type": "execute_result"
    }
   ],
   "source": [
    "data_dict[\"image\"].shape"
   ]
  },
  {
   "cell_type": "code",
   "execution_count": 99,
   "metadata": {},
   "outputs": [],
   "source": [
    "sample_list = np.stack([v[:,0] for (k,v) in results_per_sample.items()])\n",
    "sample_list = np.einsum(\"ibwh -> bihw\",sample_list)\n",
    "sample_list = sample_list[:16]\n",
    "grid = np.concatenate(np.concatenate(sample_list,axis = 2),axis = 0)"
   ]
  },
  {
   "cell_type": "code",
   "execution_count": 100,
   "metadata": {},
   "outputs": [
    {
     "data": {
      "text/plain": [
       "(-0.5, 447.5, 55.5, -0.5)"
      ]
     },
     "execution_count": 100,
     "metadata": {},
     "output_type": "execute_result"
    },
    {
     "data": {
      "image/png": "[encoded data removed]",
      "text/plain": [
       "<Figure size 1200x4000 with 1 Axes>"
      ]
     },
     "metadata": {},
     "output_type": "display_data"
    }
   ],
   "source": [
    "fig = plt.figure(figsize=(12.,40.))\n",
    "plt.imshow(grid,cmap = 'gray')\n",
    "plt.axis(\"off\")"
   ]
  },
  {
   "cell_type": "code",
   "execution_count": null,
   "metadata": {},
   "outputs": [],
   "source": []
  }
 ],
 "metadata": {
  "kernelspec": {
   "display_name": "diff",
   "language": "python",
   "name": "python3"
  },
  "language_info": {
   "codemirror_mode": {
    "name": "ipython",
    "version": 3
   },
   "file_extension": ".py",
   "mimetype": "text/x-python",
   "name": "python",
   "nbconvert_exporter": "python",
   "pygments_lexer": "ipython3",
   "version": "3.11.3"
  },
  "orig_nbformat": 4
 },
 "nbformat": 4,
 "nbformat_minor": 2
}
